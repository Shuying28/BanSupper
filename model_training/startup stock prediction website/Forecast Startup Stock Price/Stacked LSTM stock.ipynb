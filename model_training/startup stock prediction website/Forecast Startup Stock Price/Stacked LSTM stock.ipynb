{
 "cells": [
  {
   "cell_type": "markdown",
   "id": "b192d028",
   "metadata": {},
   "source": [
    "# Stock Market Prediction and Forecasting Using Stacked LSTM"
   ]
  },
  {
   "cell_type": "code",
   "execution_count": 1,
   "id": "d2d6102e",
   "metadata": {},
   "outputs": [],
   "source": [
    "# Data Collection\n",
    "import pandas as pd\n",
    "import pandas_datareader as pdr\n",
    "import matplotlib.pyplot as plt\n",
    "import numpy as np\n",
    "from sklearn.preprocessing import MinMaxScaler\n",
    "import math\n",
    "from sklearn.metrics import mean_squared_error\n",
    "from numpy import array\n",
    "import matplotlib.pyplot as plt"
   ]
  },
  {
   "cell_type": "code",
   "execution_count": 2,
   "id": "9bf23c94",
   "metadata": {},
   "outputs": [
    {
     "name": "stderr",
     "output_type": "stream",
     "text": [
      "C:\\Users\\user\\AppData\\Local\\Temp\\ipykernel_19800\\494803213.py:1: FutureWarning: In a future version of pandas all arguments of concat except for the argument 'objs' will be keyword-only.\n",
      "  df = pdr.get_data_tiingo('AAPL', api_key = 'cdaf52cefc8a7b480fd07bf9c5ebaddff7330127')\n"
     ]
    }
   ],
   "source": [
    "df = pdr.get_data_tiingo('AAPL', api_key = 'cdaf52cefc8a7b480fd07bf9c5ebaddff7330127')"
   ]
  },
  {
   "cell_type": "code",
   "execution_count": 3,
   "id": "a24bd1db",
   "metadata": {},
   "outputs": [],
   "source": [
    "df.to_csv('AAPL.csv')"
   ]
  },
  {
   "cell_type": "code",
   "execution_count": 4,
   "id": "db54a8a1",
   "metadata": {},
   "outputs": [],
   "source": [
    "df = pd.read_csv('AAPL.csv')"
   ]
  },
  {
   "cell_type": "code",
   "execution_count": 5,
   "id": "bf00a362",
   "metadata": {},
   "outputs": [
    {
     "data": {
      "text/html": [
       "<div>\n",
       "<style scoped>\n",
       "    .dataframe tbody tr th:only-of-type {\n",
       "        vertical-align: middle;\n",
       "    }\n",
       "\n",
       "    .dataframe tbody tr th {\n",
       "        vertical-align: top;\n",
       "    }\n",
       "\n",
       "    .dataframe thead th {\n",
       "        text-align: right;\n",
       "    }\n",
       "</style>\n",
       "<table border=\"1\" class=\"dataframe\">\n",
       "  <thead>\n",
       "    <tr style=\"text-align: right;\">\n",
       "      <th></th>\n",
       "      <th>symbol</th>\n",
       "      <th>date</th>\n",
       "      <th>close</th>\n",
       "      <th>high</th>\n",
       "      <th>low</th>\n",
       "      <th>open</th>\n",
       "      <th>volume</th>\n",
       "      <th>adjClose</th>\n",
       "      <th>adjHigh</th>\n",
       "      <th>adjLow</th>\n",
       "      <th>adjOpen</th>\n",
       "      <th>adjVolume</th>\n",
       "      <th>divCash</th>\n",
       "      <th>splitFactor</th>\n",
       "    </tr>\n",
       "  </thead>\n",
       "  <tbody>\n",
       "    <tr>\n",
       "      <th>0</th>\n",
       "      <td>AAPL</td>\n",
       "      <td>2018-05-07 00:00:00+00:00</td>\n",
       "      <td>185.16</td>\n",
       "      <td>187.67</td>\n",
       "      <td>184.75</td>\n",
       "      <td>185.18</td>\n",
       "      <td>42451423</td>\n",
       "      <td>44.125199</td>\n",
       "      <td>44.723354</td>\n",
       "      <td>44.027493</td>\n",
       "      <td>44.129966</td>\n",
       "      <td>169805692</td>\n",
       "      <td>0.00</td>\n",
       "      <td>1.0</td>\n",
       "    </tr>\n",
       "    <tr>\n",
       "      <th>1</th>\n",
       "      <td>AAPL</td>\n",
       "      <td>2018-05-08 00:00:00+00:00</td>\n",
       "      <td>186.05</td>\n",
       "      <td>186.22</td>\n",
       "      <td>183.67</td>\n",
       "      <td>184.99</td>\n",
       "      <td>28402777</td>\n",
       "      <td>44.337294</td>\n",
       "      <td>44.377806</td>\n",
       "      <td>43.770120</td>\n",
       "      <td>44.084687</td>\n",
       "      <td>113611108</td>\n",
       "      <td>0.00</td>\n",
       "      <td>1.0</td>\n",
       "    </tr>\n",
       "    <tr>\n",
       "      <th>2</th>\n",
       "      <td>AAPL</td>\n",
       "      <td>2018-05-09 00:00:00+00:00</td>\n",
       "      <td>187.36</td>\n",
       "      <td>187.40</td>\n",
       "      <td>185.22</td>\n",
       "      <td>186.55</td>\n",
       "      <td>23211241</td>\n",
       "      <td>44.649478</td>\n",
       "      <td>44.659010</td>\n",
       "      <td>44.139498</td>\n",
       "      <td>44.456448</td>\n",
       "      <td>92844964</td>\n",
       "      <td>0.00</td>\n",
       "      <td>1.0</td>\n",
       "    </tr>\n",
       "    <tr>\n",
       "      <th>3</th>\n",
       "      <td>AAPL</td>\n",
       "      <td>2018-05-10 00:00:00+00:00</td>\n",
       "      <td>190.04</td>\n",
       "      <td>190.37</td>\n",
       "      <td>187.65</td>\n",
       "      <td>187.74</td>\n",
       "      <td>27989289</td>\n",
       "      <td>45.288145</td>\n",
       "      <td>45.366787</td>\n",
       "      <td>44.718588</td>\n",
       "      <td>44.740035</td>\n",
       "      <td>111957156</td>\n",
       "      <td>0.00</td>\n",
       "      <td>1.0</td>\n",
       "    </tr>\n",
       "    <tr>\n",
       "      <th>4</th>\n",
       "      <td>AAPL</td>\n",
       "      <td>2018-05-11 00:00:00+00:00</td>\n",
       "      <td>188.59</td>\n",
       "      <td>190.06</td>\n",
       "      <td>187.45</td>\n",
       "      <td>189.49</td>\n",
       "      <td>26212221</td>\n",
       "      <td>45.116563</td>\n",
       "      <td>45.468232</td>\n",
       "      <td>44.843839</td>\n",
       "      <td>45.331871</td>\n",
       "      <td>104848884</td>\n",
       "      <td>0.73</td>\n",
       "      <td>1.0</td>\n",
       "    </tr>\n",
       "  </tbody>\n",
       "</table>\n",
       "</div>"
      ],
      "text/plain": [
       "  symbol                       date   close    high     low    open    volume  \\\n",
       "0   AAPL  2018-05-07 00:00:00+00:00  185.16  187.67  184.75  185.18  42451423   \n",
       "1   AAPL  2018-05-08 00:00:00+00:00  186.05  186.22  183.67  184.99  28402777   \n",
       "2   AAPL  2018-05-09 00:00:00+00:00  187.36  187.40  185.22  186.55  23211241   \n",
       "3   AAPL  2018-05-10 00:00:00+00:00  190.04  190.37  187.65  187.74  27989289   \n",
       "4   AAPL  2018-05-11 00:00:00+00:00  188.59  190.06  187.45  189.49  26212221   \n",
       "\n",
       "    adjClose    adjHigh     adjLow    adjOpen  adjVolume  divCash  splitFactor  \n",
       "0  44.125199  44.723354  44.027493  44.129966  169805692     0.00          1.0  \n",
       "1  44.337294  44.377806  43.770120  44.084687  113611108     0.00          1.0  \n",
       "2  44.649478  44.659010  44.139498  44.456448   92844964     0.00          1.0  \n",
       "3  45.288145  45.366787  44.718588  44.740035  111957156     0.00          1.0  \n",
       "4  45.116563  45.468232  44.843839  45.331871  104848884     0.73          1.0  "
      ]
     },
     "execution_count": 5,
     "metadata": {},
     "output_type": "execute_result"
    }
   ],
   "source": [
    "df.head()"
   ]
  },
  {
   "cell_type": "code",
   "execution_count": 6,
   "id": "561b4908",
   "metadata": {},
   "outputs": [],
   "source": [
    "df1 = df.reset_index()['close']"
   ]
  },
  {
   "cell_type": "code",
   "execution_count": 7,
   "id": "b31159b4",
   "metadata": {},
   "outputs": [
    {
     "data": {
      "text/plain": [
       "(1259,)"
      ]
     },
     "execution_count": 7,
     "metadata": {},
     "output_type": "execute_result"
    }
   ],
   "source": [
    "df1.shape"
   ]
  },
  {
   "cell_type": "code",
   "execution_count": 8,
   "id": "04cad301",
   "metadata": {},
   "outputs": [
    {
     "data": {
      "text/plain": [
       "0       185.16\n",
       "1       186.05\n",
       "2       187.36\n",
       "3       190.04\n",
       "4       188.59\n",
       "         ...  \n",
       "1254    169.59\n",
       "1255    168.54\n",
       "1256    167.45\n",
       "1257    165.79\n",
       "1258    173.57\n",
       "Name: close, Length: 1259, dtype: float64"
      ]
     },
     "execution_count": 8,
     "metadata": {},
     "output_type": "execute_result"
    }
   ],
   "source": [
    "df1"
   ]
  },
  {
   "cell_type": "code",
   "execution_count": 9,
   "id": "38f2cd9d",
   "metadata": {},
   "outputs": [
    {
     "data": {
      "text/plain": [
       "[<matplotlib.lines.Line2D at 0x1c489bad720>]"
      ]
     },
     "execution_count": 9,
     "metadata": {},
     "output_type": "execute_result"
    },
    {
     "data": {
      "image/png": "[encoded data removed]",
      "text/plain": [
       "<Figure size 432x288 with 1 Axes>"
      ]
     },
     "metadata": {
      "needs_background": "light"
     },
     "output_type": "display_data"
    }
   ],
   "source": [
    "plt.plot(df1)"
   ]
  },
  {
   "cell_type": "markdown",
   "id": "ba99c896",
   "metadata": {},
   "source": [
    "### LSTM are sensitive to the scale of the data, hence MinMax Scaler is applied"
   ]
  },
  {
   "cell_type": "code",
   "execution_count": 10,
   "id": "d228fb57",
   "metadata": {},
   "outputs": [],
   "source": [
    "scaler = MinMaxScaler(feature_range=(0,1))\n",
    "df1 = scaler.fit_transform(np.array(df1).reshape(-1,1))"
   ]
  },
  {
   "cell_type": "code",
   "execution_count": 11,
   "id": "7cd0576c",
   "metadata": {},
   "outputs": [
    {
     "data": {
      "text/plain": [
       "array([[0.19616781],\n",
       "       [0.19839699],\n",
       "       [0.20167815],\n",
       "       ...,\n",
       "       [0.15180964],\n",
       "       [0.14765185],\n",
       "       [0.16713838]])"
      ]
     },
     "execution_count": 11,
     "metadata": {},
     "output_type": "execute_result"
    }
   ],
   "source": [
    "df1"
   ]
  },
  {
   "cell_type": "markdown",
   "id": "c7148771",
   "metadata": {},
   "source": [
    "### Splitting datasets into train and test split"
   ]
  },
  {
   "cell_type": "code",
   "execution_count": 12,
   "id": "9e2e8a0e",
   "metadata": {},
   "outputs": [],
   "source": [
    "training_size = int(len(df1)*0.65)\n",
    "test_size = len(df1)-training_size\n",
    "train_data, test_data = df1[0:training_size,:],df1[training_size:len(df1),:1]"
   ]
  },
  {
   "cell_type": "code",
   "execution_count": 13,
   "id": "270096d5",
   "metadata": {},
   "outputs": [
    {
     "data": {
      "text/plain": [
       "(818, 441)"
      ]
     },
     "execution_count": 13,
     "metadata": {},
     "output_type": "execute_result"
    }
   ],
   "source": [
    "training_size, test_size"
   ]
  },
  {
   "cell_type": "markdown",
   "id": "4f4db3e5",
   "metadata": {},
   "source": [
    "### convert an array of values into a dataset matrix"
   ]
  },
  {
   "cell_type": "code",
   "execution_count": 14,
   "id": "6c40952c",
   "metadata": {},
   "outputs": [],
   "source": [
    "def create_dataset(dataset, time_step=1):\n",
    "    dataX, dataY = [],[]\n",
    "    for i in range (len(dataset)-time_step-1):\n",
    "        a = dataset[i:(i+time_step), 0]\n",
    "        dataX.append(a)\n",
    "        dataY.append(dataset[i + time_step, 0])\n",
    "    return np.array(dataX), np.array(dataY)"
   ]
  },
  {
   "cell_type": "code",
   "execution_count": 15,
   "id": "a8db5bfc",
   "metadata": {},
   "outputs": [],
   "source": [
    "# reshape into X=t, t+1, t+2, t+3 and Y=t+4\n",
    "\n",
    "time_step = 100\n",
    "X_train, y_train = create_dataset(train_data, time_step)\n",
    "X_test, y_test = create_dataset(test_data, time_step)"
   ]
  },
  {
   "cell_type": "code",
   "execution_count": 16,
   "id": "17a3edcf",
   "metadata": {},
   "outputs": [
    {
     "data": {
      "text/plain": [
       "((717, 100), (717,))"
      ]
     },
     "execution_count": 16,
     "metadata": {},
     "output_type": "execute_result"
    }
   ],
   "source": [
    "X_train.shape, y_train.shape"
   ]
  },
  {
   "cell_type": "code",
   "execution_count": 17,
   "id": "39f58cb5",
   "metadata": {},
   "outputs": [
    {
     "data": {
      "text/plain": [
       "((340, 100), (340,))"
      ]
     },
     "execution_count": 17,
     "metadata": {},
     "output_type": "execute_result"
    }
   ],
   "source": [
    "X_test.shape, y_test.shape"
   ]
  },
  {
   "cell_type": "code",
   "execution_count": 18,
   "id": "6640620d",
   "metadata": {},
   "outputs": [],
   "source": [
    "### reshape input to be [samples, time steps, features] which is required for LSTM\n",
    "X_train = X_train.reshape(X_train.shape[0], X_train.shape[1], 1)\n",
    "X_test = X_test.reshape(X_test.shape[0], X_test.shape[1], 1)"
   ]
  },
  {
   "cell_type": "markdown",
   "id": "ffce1fbb",
   "metadata": {},
   "source": [
    "# Create Stacked LSTM Model"
   ]
  },
  {
   "cell_type": "code",
   "execution_count": 19,
   "id": "ef483e2f",
   "metadata": {},
   "outputs": [],
   "source": [
    "from tensorflow.keras.models import Sequential\n",
    "from tensorflow.keras.layers import Dense\n",
    "from tensorflow.keras.layers import LSTM\n",
    "import tensorflow as tf"
   ]
  },
  {
   "cell_type": "code",
   "execution_count": 20,
   "id": "58a8963f",
   "metadata": {},
   "outputs": [],
   "source": [
    "model = Sequential()\n",
    "model.add(LSTM(50, return_sequences=True, input_shape=(100, 1)))\n",
    "model.add(LSTM(50, return_sequences=True))\n",
    "model.add(LSTM(50))\n",
    "model.add(Dense(1))\n",
    "model.compile(loss='mean_squared_error', optimizer='adam')"
   ]
  },
  {
   "cell_type": "code",
   "execution_count": 22,
   "id": "5811e9cd",
   "metadata": {},
   "outputs": [
    {
     "name": "stdout",
     "output_type": "stream",
     "text": [
      "Model: \"sequential\"\n",
      "_________________________________________________________________\n",
      " Layer (type)                Output Shape              Param #   \n",
      "=================================================================\n",
      " lstm (LSTM)                 (None, 100, 50)           10400     \n",
      "                                                                 \n",
      " lstm_1 (LSTM)               (None, 100, 50)           20200     \n",
      "                                                                 \n",
      " lstm_2 (LSTM)               (None, 50)                20200     \n",
      "                                                                 \n",
      " dense (Dense)               (None, 1)                 51        \n",
      "                                                                 \n",
      "=================================================================\n",
      "Total params: 50,851\n",
      "Trainable params: 50,851\n",
      "Non-trainable params: 0\n",
      "_________________________________________________________________\n"
     ]
    }
   ],
   "source": [
    "model.summary()"
   ]
  },
  {
   "cell_type": "code",
   "execution_count": 23,
   "id": "faff2794",
   "metadata": {
    "scrolled": true
   },
   "outputs": [
    {
     "name": "stdout",
     "output_type": "stream",
     "text": [
      "Epoch 1/100\n",
      "12/12 [==============================] - 8s 253ms/step - loss: 0.0432 - val_loss: 6.6452e-04\n",
      "Epoch 2/100\n",
      "12/12 [==============================] - 3s 218ms/step - loss: 0.0169 - val_loss: 0.0044\n",
      "Epoch 3/100\n",
      "12/12 [==============================] - 2s 159ms/step - loss: 0.0110 - val_loss: 4.1424e-04\n",
      "Epoch 4/100\n",
      "12/12 [==============================] - 2s 150ms/step - loss: 0.0091 - val_loss: 4.0146e-04\n",
      "Epoch 5/100\n",
      "12/12 [==============================] - 2s 174ms/step - loss: 0.0083 - val_loss: 3.6946e-04\n",
      "Epoch 6/100\n",
      "12/12 [==============================] - 2s 180ms/step - loss: 0.0076 - val_loss: 5.7180e-04\n",
      "Epoch 7/100\n",
      "12/12 [==============================] - 2s 153ms/step - loss: 0.0068 - val_loss: 7.3070e-04\n",
      "Epoch 8/100\n",
      "12/12 [==============================] - 2s 174ms/step - loss: 0.0063 - val_loss: 4.9278e-04\n",
      "Epoch 9/100\n",
      "12/12 [==============================] - 2s 153ms/step - loss: 0.0053 - val_loss: 3.3141e-04\n",
      "Epoch 10/100\n",
      "12/12 [==============================] - 2s 148ms/step - loss: 0.0052 - val_loss: 3.5529e-04\n",
      "Epoch 11/100\n",
      "12/12 [==============================] - 2s 167ms/step - loss: 0.0046 - val_loss: 3.8462e-04\n",
      "Epoch 12/100\n",
      "12/12 [==============================] - 2s 185ms/step - loss: 0.0043 - val_loss: 5.5877e-04\n",
      "Epoch 13/100\n",
      "12/12 [==============================] - 2s 148ms/step - loss: 0.0049 - val_loss: 2.8221e-04\n",
      "Epoch 14/100\n",
      "12/12 [==============================] - 2s 157ms/step - loss: 0.0047 - val_loss: 4.3999e-04\n",
      "Epoch 15/100\n",
      "12/12 [==============================] - 2s 144ms/step - loss: 0.0036 - val_loss: 2.6638e-04\n",
      "Epoch 16/100\n",
      "12/12 [==============================] - 2s 141ms/step - loss: 0.0032 - val_loss: 4.1011e-04\n",
      "Epoch 17/100\n",
      "12/12 [==============================] - 2s 142ms/step - loss: 0.0031 - val_loss: 2.7048e-04\n",
      "Epoch 18/100\n",
      "12/12 [==============================] - 2s 143ms/step - loss: 0.0029 - val_loss: 3.5140e-04\n",
      "Epoch 19/100\n",
      "12/12 [==============================] - 2s 141ms/step - loss: 0.0026 - val_loss: 2.8707e-04\n",
      "Epoch 20/100\n",
      "12/12 [==============================] - 2s 143ms/step - loss: 0.0048 - val_loss: 6.8831e-04\n",
      "Epoch 21/100\n",
      "12/12 [==============================] - 2s 140ms/step - loss: 0.0031 - val_loss: 2.5549e-04\n",
      "Epoch 22/100\n",
      "12/12 [==============================] - 2s 148ms/step - loss: 0.0026 - val_loss: 2.6601e-04\n",
      "Epoch 23/100\n",
      "12/12 [==============================] - 2s 141ms/step - loss: 0.0026 - val_loss: 2.7198e-04\n",
      "Epoch 24/100\n",
      "12/12 [==============================] - 2s 147ms/step - loss: 0.0022 - val_loss: 2.6001e-04\n",
      "Epoch 25/100\n",
      "12/12 [==============================] - 2s 154ms/step - loss: 0.0020 - val_loss: 2.5529e-04\n",
      "Epoch 26/100\n",
      "12/12 [==============================] - 2s 149ms/step - loss: 0.0023 - val_loss: 3.5364e-04\n",
      "Epoch 27/100\n",
      "12/12 [==============================] - 2s 145ms/step - loss: 0.0018 - val_loss: 3.0349e-04\n",
      "Epoch 28/100\n",
      "12/12 [==============================] - 2s 156ms/step - loss: 0.0023 - val_loss: 4.0996e-04\n",
      "Epoch 29/100\n",
      "12/12 [==============================] - 2s 160ms/step - loss: 0.0020 - val_loss: 3.2157e-04\n",
      "Epoch 30/100\n",
      "12/12 [==============================] - 2s 147ms/step - loss: 0.0022 - val_loss: 2.8216e-04\n",
      "Epoch 31/100\n",
      "12/12 [==============================] - 2s 146ms/step - loss: 0.0031 - val_loss: 2.6499e-04\n",
      "Epoch 32/100\n",
      "12/12 [==============================] - 2s 150ms/step - loss: 0.0032 - val_loss: 2.9239e-04\n",
      "Epoch 33/100\n",
      "12/12 [==============================] - 2s 143ms/step - loss: 0.0025 - val_loss: 6.0074e-04\n",
      "Epoch 34/100\n",
      "12/12 [==============================] - 2s 144ms/step - loss: 0.0023 - val_loss: 2.6360e-04\n",
      "Epoch 35/100\n",
      "12/12 [==============================] - 2s 145ms/step - loss: 0.0020 - val_loss: 2.9459e-04\n",
      "Epoch 36/100\n",
      "12/12 [==============================] - 2s 165ms/step - loss: 0.0021 - val_loss: 2.5931e-04\n",
      "Epoch 37/100\n",
      "12/12 [==============================] - 2s 170ms/step - loss: 0.0018 - val_loss: 3.0665e-04\n",
      "Epoch 38/100\n",
      "12/12 [==============================] - 2s 153ms/step - loss: 0.0021 - val_loss: 4.3740e-04\n",
      "Epoch 39/100\n",
      "12/12 [==============================] - 2s 144ms/step - loss: 0.0019 - val_loss: 2.8002e-04\n",
      "Epoch 40/100\n",
      "12/12 [==============================] - 2s 150ms/step - loss: 0.0020 - val_loss: 2.6613e-04\n",
      "Epoch 41/100\n",
      "12/12 [==============================] - 2s 151ms/step - loss: 0.0023 - val_loss: 2.5462e-04\n",
      "Epoch 42/100\n",
      "12/12 [==============================] - 2s 152ms/step - loss: 0.0021 - val_loss: 3.2190e-04\n",
      "Epoch 43/100\n",
      "12/12 [==============================] - 2s 174ms/step - loss: 0.0023 - val_loss: 2.9724e-04\n",
      "Epoch 44/100\n",
      "12/12 [==============================] - 2s 180ms/step - loss: 0.0017 - val_loss: 2.8612e-04\n",
      "Epoch 45/100\n",
      "12/12 [==============================] - 2s 193ms/step - loss: 0.0019 - val_loss: 2.9835e-04\n",
      "Epoch 46/100\n",
      "12/12 [==============================] - 2s 168ms/step - loss: 0.0020 - val_loss: 2.6287e-04\n",
      "Epoch 47/100\n",
      "12/12 [==============================] - 2s 143ms/step - loss: 0.0017 - val_loss: 3.3629e-04\n",
      "Epoch 48/100\n",
      "12/12 [==============================] - 2s 148ms/step - loss: 0.0021 - val_loss: 2.8876e-04\n",
      "Epoch 49/100\n",
      "12/12 [==============================] - 2s 168ms/step - loss: 0.0023 - val_loss: 4.9630e-04\n",
      "Epoch 50/100\n",
      "12/12 [==============================] - 2s 159ms/step - loss: 0.0017 - val_loss: 2.9719e-04\n",
      "Epoch 51/100\n",
      "12/12 [==============================] - 2s 208ms/step - loss: 0.0016 - val_loss: 4.8330e-04\n",
      "Epoch 52/100\n",
      "12/12 [==============================] - 2s 155ms/step - loss: 0.0020 - val_loss: 2.9118e-04\n",
      "Epoch 53/100\n",
      "12/12 [==============================] - 2s 145ms/step - loss: 0.0021 - val_loss: 2.8306e-04\n",
      "Epoch 54/100\n",
      "12/12 [==============================] - 2s 144ms/step - loss: 0.0020 - val_loss: 2.8828e-04\n",
      "Epoch 55/100\n",
      "12/12 [==============================] - 2s 144ms/step - loss: 0.0016 - val_loss: 3.7283e-04\n",
      "Epoch 56/100\n",
      "12/12 [==============================] - 2s 145ms/step - loss: 0.0016 - val_loss: 3.1630e-04\n",
      "Epoch 57/100\n",
      "12/12 [==============================] - 2s 144ms/step - loss: 0.0017 - val_loss: 2.9268e-04\n",
      "Epoch 58/100\n",
      "12/12 [==============================] - 2s 145ms/step - loss: 0.0017 - val_loss: 3.0634e-04\n",
      "Epoch 59/100\n",
      "12/12 [==============================] - 2s 145ms/step - loss: 0.0024 - val_loss: 7.0031e-04\n",
      "Epoch 60/100\n",
      "12/12 [==============================] - 2s 151ms/step - loss: 0.0024 - val_loss: 2.9095e-04\n",
      "Epoch 61/100\n",
      "12/12 [==============================] - 2s 163ms/step - loss: 0.0018 - val_loss: 3.9068e-04\n",
      "Epoch 62/100\n",
      "12/12 [==============================] - 2s 152ms/step - loss: 0.0017 - val_loss: 3.1411e-04\n",
      "Epoch 63/100\n",
      "12/12 [==============================] - 2s 145ms/step - loss: 0.0020 - val_loss: 3.7197e-04\n",
      "Epoch 64/100\n",
      "12/12 [==============================] - 2s 143ms/step - loss: 0.0015 - val_loss: 2.9969e-04\n",
      "Epoch 65/100\n",
      "12/12 [==============================] - 2s 145ms/step - loss: 0.0013 - val_loss: 3.0459e-04\n",
      "Epoch 66/100\n",
      "12/12 [==============================] - 2s 145ms/step - loss: 0.0015 - val_loss: 2.7401e-04\n",
      "Epoch 67/100\n",
      "12/12 [==============================] - 2s 143ms/step - loss: 0.0015 - val_loss: 2.5483e-04\n",
      "Epoch 68/100\n",
      "12/12 [==============================] - 2s 145ms/step - loss: 0.0014 - val_loss: 3.1250e-04\n",
      "Epoch 69/100\n",
      "12/12 [==============================] - 2s 142ms/step - loss: 0.0035 - val_loss: 7.5289e-04\n",
      "Epoch 70/100\n",
      "12/12 [==============================] - 2s 140ms/step - loss: 0.0022 - val_loss: 2.8891e-04\n",
      "Epoch 71/100\n",
      "12/12 [==============================] - 2s 143ms/step - loss: 0.0016 - val_loss: 2.7330e-04\n",
      "Epoch 72/100\n",
      "12/12 [==============================] - 2s 143ms/step - loss: 0.0014 - val_loss: 2.6851e-04\n",
      "Epoch 73/100\n",
      "12/12 [==============================] - 2s 145ms/step - loss: 0.0017 - val_loss: 2.5679e-04\n",
      "Epoch 74/100\n",
      "12/12 [==============================] - 2s 156ms/step - loss: 0.0015 - val_loss: 2.7715e-04\n",
      "Epoch 75/100\n",
      "12/12 [==============================] - 2s 154ms/step - loss: 0.0018 - val_loss: 2.5345e-04\n",
      "Epoch 76/100\n",
      "12/12 [==============================] - 2s 143ms/step - loss: 0.0027 - val_loss: 2.7027e-04\n",
      "Epoch 77/100\n",
      "12/12 [==============================] - 2s 141ms/step - loss: 0.0015 - val_loss: 2.5930e-04\n",
      "Epoch 78/100\n"
     ]
    },
    {
     "name": "stdout",
     "output_type": "stream",
     "text": [
      "12/12 [==============================] - 2s 144ms/step - loss: 0.0016 - val_loss: 2.7118e-04\n",
      "Epoch 79/100\n",
      "12/12 [==============================] - 2s 142ms/step - loss: 0.0014 - val_loss: 2.9811e-04\n",
      "Epoch 80/100\n",
      "12/12 [==============================] - 2s 146ms/step - loss: 0.0013 - val_loss: 2.6717e-04\n",
      "Epoch 81/100\n",
      "12/12 [==============================] - 2s 143ms/step - loss: 0.0016 - val_loss: 4.7996e-04\n",
      "Epoch 82/100\n",
      "12/12 [==============================] - 2s 143ms/step - loss: 0.0023 - val_loss: 2.8965e-04\n",
      "Epoch 83/100\n",
      "12/12 [==============================] - 2s 143ms/step - loss: 0.0032 - val_loss: 2.9154e-04\n",
      "Epoch 84/100\n",
      "12/12 [==============================] - 2s 142ms/step - loss: 0.0028 - val_loss: 5.1566e-04\n",
      "Epoch 85/100\n",
      "12/12 [==============================] - 2s 143ms/step - loss: 0.0021 - val_loss: 2.8407e-04\n",
      "Epoch 86/100\n",
      "12/12 [==============================] - 2s 145ms/step - loss: 0.0019 - val_loss: 2.6860e-04\n",
      "Epoch 87/100\n",
      "12/12 [==============================] - 2s 140ms/step - loss: 0.0016 - val_loss: 2.5940e-04\n",
      "Epoch 88/100\n",
      "12/12 [==============================] - 2s 142ms/step - loss: 0.0017 - val_loss: 5.1784e-04\n",
      "Epoch 89/100\n",
      "12/12 [==============================] - 2s 143ms/step - loss: 0.0020 - val_loss: 3.8114e-04\n",
      "Epoch 90/100\n",
      "12/12 [==============================] - 2s 140ms/step - loss: 0.0015 - val_loss: 3.1167e-04\n",
      "Epoch 91/100\n",
      "12/12 [==============================] - 2s 151ms/step - loss: 0.0018 - val_loss: 2.6402e-04\n",
      "Epoch 92/100\n",
      "12/12 [==============================] - 2s 146ms/step - loss: 0.0020 - val_loss: 3.5869e-04\n",
      "Epoch 93/100\n",
      "12/12 [==============================] - 2s 143ms/step - loss: 0.0016 - val_loss: 2.4983e-04\n",
      "Epoch 94/100\n",
      "12/12 [==============================] - 2s 145ms/step - loss: 0.0012 - val_loss: 2.4883e-04\n",
      "Epoch 95/100\n",
      "12/12 [==============================] - 2s 145ms/step - loss: 0.0016 - val_loss: 2.6861e-04\n",
      "Epoch 96/100\n",
      "12/12 [==============================] - 2s 143ms/step - loss: 0.0023 - val_loss: 2.4770e-04\n",
      "Epoch 97/100\n",
      "12/12 [==============================] - 2s 143ms/step - loss: 0.0013 - val_loss: 2.4081e-04\n",
      "Epoch 98/100\n",
      "12/12 [==============================] - 2s 141ms/step - loss: 0.0013 - val_loss: 2.7374e-04\n",
      "Epoch 99/100\n",
      "12/12 [==============================] - 2s 143ms/step - loss: 0.0020 - val_loss: 2.9401e-04\n",
      "Epoch 100/100\n",
      "12/12 [==============================] - 2s 145ms/step - loss: 0.0015 - val_loss: 3.1228e-04\n"
     ]
    },
    {
     "data": {
      "text/plain": [
       "<keras.callbacks.History at 0x1c494041de0>"
      ]
     },
     "execution_count": 23,
     "metadata": {},
     "output_type": "execute_result"
    }
   ],
   "source": [
    "model.fit(X_train, y_train, validation_data=(X_test, y_test), epochs=100, batch_size=64, verbose=1)"
   ]
  },
  {
   "cell_type": "code",
   "execution_count": 41,
   "id": "b299c2af",
   "metadata": {},
   "outputs": [],
   "source": [
    "model.save('stackedLSTM_model.h5')"
   ]
  },
  {
   "cell_type": "code",
   "execution_count": 24,
   "id": "a7f49145",
   "metadata": {},
   "outputs": [
    {
     "name": "stdout",
     "output_type": "stream",
     "text": [
      "23/23 [==============================] - 2s 29ms/step\n",
      "11/11 [==============================] - 0s 29ms/step\n"
     ]
    }
   ],
   "source": [
    "### Let's Do prediction and check performance metrics\n",
    "\n",
    "train_predict = model.predict(X_train)\n",
    "test_predict = model.predict(X_test)"
   ]
  },
  {
   "cell_type": "code",
   "execution_count": 25,
   "id": "6f95ec0a",
   "metadata": {},
   "outputs": [],
   "source": [
    "## Transformback to original form\n",
    "\n",
    "train_predict = scaler.inverse_transform(train_predict)\n",
    "test_predict = scaler.inverse_transform(test_predict)"
   ]
  },
  {
   "cell_type": "code",
   "execution_count": 26,
   "id": "858137f5",
   "metadata": {},
   "outputs": [
    {
     "data": {
      "text/plain": [
       "228.73216470910492"
      ]
     },
     "execution_count": 26,
     "metadata": {},
     "output_type": "execute_result"
    }
   ],
   "source": [
    "## Calculate RMSE performance metrics\n",
    "\n",
    "math.sqrt(mean_squared_error(y_train, train_predict))"
   ]
  },
  {
   "cell_type": "code",
   "execution_count": 27,
   "id": "94010dc1",
   "metadata": {},
   "outputs": [
    {
     "data": {
      "text/plain": [
       "152.90727112243044"
      ]
     },
     "execution_count": 27,
     "metadata": {},
     "output_type": "execute_result"
    }
   ],
   "source": [
    "### Test data RMSE\n",
    "\n",
    "math.sqrt(mean_squared_error(y_test, test_predict))"
   ]
  },
  {
   "cell_type": "markdown",
   "id": "3a523362",
   "metadata": {},
   "source": [
    "### Plotting"
   ]
  },
  {
   "cell_type": "code",
   "execution_count": 28,
   "id": "0f3772f6",
   "metadata": {},
   "outputs": [
    {
     "data": {
      "image/png": "[encoded data removed]",
      "text/plain": [
       "<Figure size 432x288 with 1 Axes>"
      ]
     },
     "metadata": {
      "needs_background": "light"
     },
     "output_type": "display_data"
    }
   ],
   "source": [
    "# shift train predictions for plotting\n",
    "look_back = 100\n",
    "trainPredictPlot = np.empty_like(df1)\n",
    "trainPredictPlot[:, :] = np.nan\n",
    "trainPredictPlot[look_back: len(train_predict) + look_back, :] = train_predict\n",
    "\n",
    "# shift test predictions for plotting\n",
    "testPredictPlot = np.empty_like(df1)\n",
    "testPredictPlot[:, :] = np.nan\n",
    "testPredictPlot[len(train_predict) + (look_back*2)+1:len(df1)-1, :] = test_predict\n",
    "\n",
    "# plot baseline and predictions\n",
    "plt.plot(scaler.inverse_transform(df1))\n",
    "plt.plot(trainPredictPlot, 'b')\n",
    "plt.plot(testPredictPlot, 'g')\n",
    "plt.show()"
   ]
  },
  {
   "cell_type": "code",
   "execution_count": 29,
   "id": "05681065",
   "metadata": {},
   "outputs": [
    {
     "data": {
      "text/plain": [
       "441"
      ]
     },
     "execution_count": 29,
     "metadata": {},
     "output_type": "execute_result"
    }
   ],
   "source": [
    "len(test_data)"
   ]
  },
  {
   "cell_type": "code",
   "execution_count": 30,
   "id": "02239ee2",
   "metadata": {},
   "outputs": [
    {
     "data": {
      "text/plain": [
       "(1, 100)"
      ]
     },
     "execution_count": 30,
     "metadata": {},
     "output_type": "execute_result"
    }
   ],
   "source": [
    "x_input = test_data[341:].reshape(1, -1)\n",
    "x_input.shape"
   ]
  },
  {
   "cell_type": "code",
   "execution_count": 31,
   "id": "df2d9274",
   "metadata": {},
   "outputs": [],
   "source": [
    "temp_input = list(x_input)\n",
    "temp_input = temp_input[0].tolist()"
   ]
  },
  {
   "cell_type": "code",
   "execution_count": 32,
   "id": "07ea3f08",
   "metadata": {
    "scrolled": true
   },
   "outputs": [
    {
     "data": {
      "text/plain": [
       "[0.0943018159048215,\n",
       " 0.096756418284283,\n",
       " 0.09109580463368816,\n",
       " 0.07428929242329363,\n",
       " 0.06930494677520344,\n",
       " 0.06394489668127734,\n",
       " 0.06376956793988725,\n",
       " 0.07165936130244199,\n",
       " 0.0635942391984971,\n",
       " 0.06266750156543521,\n",
       " 0.05808390732623664,\n",
       " 0.04809016906700059,\n",
       " 0.05703193487789604,\n",
       " 0.05783343769567939,\n",
       " 0.04566061365059482,\n",
       " 0.04889167188478394,\n",
       " 0.045535378835316165,\n",
       " 0.05705698184095176,\n",
       " 0.05838447088290544,\n",
       " 0.05983719474013771,\n",
       " 0.06675015654351907,\n",
       " 0.0665497808390732,\n",
       " 0.0699311208515967,\n",
       " 0.0728866624921728,\n",
       " 0.07105823418910456,\n",
       " 0.07120851596743893,\n",
       " 0.07772072636192856,\n",
       " 0.08583594239198494,\n",
       " 0.08939261114589853,\n",
       " 0.08771446462116467,\n",
       " 0.09297432686286783,\n",
       " 0.09790857858484658,\n",
       " 0.09056981840951783,\n",
       " 0.0938008766437069,\n",
       " 0.09665623043206006,\n",
       " 0.11015654351909826,\n",
       " 0.11937382592360674,\n",
       " 0.1124358171571696,\n",
       " 0.11974953036944269,\n",
       " 0.11291170945522849,\n",
       " 0.11028177833437691,\n",
       " 0.1106324358171571,\n",
       " 0.11774577332498432,\n",
       " 0.11611772072636184,\n",
       " 0.12145272385723233,\n",
       " 0.11739511584220413,\n",
       " 0.11448966812773947,\n",
       " 0.10429555416405756,\n",
       " 0.10537257357545393,\n",
       " 0.10659987476518468,\n",
       " 0.09986224170319347,\n",
       " 0.10289292423293667,\n",
       " 0.10161552911709448,\n",
       " 0.09635566687539132,\n",
       " 0.09785848465873509,\n",
       " 0.11068252974326859,\n",
       " 0.11769567939887288,\n",
       " 0.11211020663744514,\n",
       " 0.11529117094552283,\n",
       " 0.1095804633688165,\n",
       " 0.10434564809016905,\n",
       " 0.10927989981214775,\n",
       " 0.11458985597996241,\n",
       " 0.11559173450219157,\n",
       " 0.12275516593613017,\n",
       " 0.1206261740763932,\n",
       " 0.12663744520976827,\n",
       " 0.13134627426424544,\n",
       " 0.12771446462116465,\n",
       " 0.13046963055729488,\n",
       " 0.13377582968065116,\n",
       " 0.12884157795867246,\n",
       " 0.12726361928616153,\n",
       " 0.13507827175954912,\n",
       " 0.13906073888541015,\n",
       " 0.1454226675015654,\n",
       " 0.14860363180964303,\n",
       " 0.14725109580463364,\n",
       " 0.14256731371321218,\n",
       " 0.14482154038822787,\n",
       " 0.13823418910457103,\n",
       " 0.13515341264871633,\n",
       " 0.1334001252348152,\n",
       " 0.14707576706324355,\n",
       " 0.14619912335629304,\n",
       " 0.14624921728240442,\n",
       " 0.14935504070131495,\n",
       " 0.15226048841577955,\n",
       " 0.14980588603631806,\n",
       " 0.14572323105823415,\n",
       " 0.14649968691296178,\n",
       " 0.14259236067626796,\n",
       " 0.14256731371321218,\n",
       " 0.15421415153412643,\n",
       " 0.15739511584220411,\n",
       " 0.15716969317470253,\n",
       " 0.1545397620538509,\n",
       " 0.15180964308077638,\n",
       " 0.1476518472135253,\n",
       " 0.16713838447088286]"
      ]
     },
     "execution_count": 32,
     "metadata": {},
     "output_type": "execute_result"
    }
   ],
   "source": [
    "temp_input"
   ]
  },
  {
   "cell_type": "code",
   "execution_count": 33,
   "id": "d8fecb92",
   "metadata": {},
   "outputs": [
    {
     "name": "stdout",
     "output_type": "stream",
     "text": [
      "[0.14901295]\n",
      "101\n",
      "1 day input [0.09675642 0.0910958  0.07428929 0.06930495 0.0639449  0.06376957\n",
      " 0.07165936 0.06359424 0.0626675  0.05808391 0.04809017 0.05703193\n",
      " 0.05783344 0.04566061 0.04889167 0.04553538 0.05705698 0.05838447\n",
      " 0.05983719 0.06675016 0.06654978 0.06993112 0.07288666 0.07105823\n",
      " 0.07120852 0.07772073 0.08583594 0.08939261 0.08771446 0.09297433\n",
      " 0.09790858 0.09056982 0.09380088 0.09665623 0.11015654 0.11937383\n",
      " 0.11243582 0.11974953 0.11291171 0.11028178 0.11063244 0.11774577\n",
      " 0.11611772 0.12145272 0.11739512 0.11448967 0.10429555 0.10537257\n",
      " 0.10659987 0.09986224 0.10289292 0.10161553 0.09635567 0.09785848\n",
      " 0.11068253 0.11769568 0.11211021 0.11529117 0.10958046 0.10434565\n",
      " 0.1092799  0.11458986 0.11559173 0.12275517 0.12062617 0.12663745\n",
      " 0.13134627 0.12771446 0.13046963 0.13377583 0.12884158 0.12726362\n",
      " 0.13507827 0.13906074 0.14542267 0.14860363 0.1472511  0.14256731\n",
      " 0.14482154 0.13823419 0.13515341 0.13340013 0.14707577 0.14619912\n",
      " 0.14624922 0.14935504 0.15226049 0.14980589 0.14572323 0.14649969\n",
      " 0.14259236 0.14256731 0.15421415 0.15739512 0.15716969 0.15453976\n",
      " 0.15180964 0.14765185 0.16713838 0.14901295]\n",
      "1 day output [[0.14998278]]\n",
      "2 day input [0.0910958  0.07428929 0.06930495 0.0639449  0.06376957 0.07165936\n",
      " 0.06359424 0.0626675  0.05808391 0.04809017 0.05703193 0.05783344\n",
      " 0.04566061 0.04889167 0.04553538 0.05705698 0.05838447 0.05983719\n",
      " 0.06675016 0.06654978 0.06993112 0.07288666 0.07105823 0.07120852\n",
      " 0.07772073 0.08583594 0.08939261 0.08771446 0.09297433 0.09790858\n",
      " 0.09056982 0.09380088 0.09665623 0.11015654 0.11937383 0.11243582\n",
      " 0.11974953 0.11291171 0.11028178 0.11063244 0.11774577 0.11611772\n",
      " 0.12145272 0.11739512 0.11448967 0.10429555 0.10537257 0.10659987\n",
      " 0.09986224 0.10289292 0.10161553 0.09635567 0.09785848 0.11068253\n",
      " 0.11769568 0.11211021 0.11529117 0.10958046 0.10434565 0.1092799\n",
      " 0.11458986 0.11559173 0.12275517 0.12062617 0.12663745 0.13134627\n",
      " 0.12771446 0.13046963 0.13377583 0.12884158 0.12726362 0.13507827\n",
      " 0.13906074 0.14542267 0.14860363 0.1472511  0.14256731 0.14482154\n",
      " 0.13823419 0.13515341 0.13340013 0.14707577 0.14619912 0.14624922\n",
      " 0.14935504 0.15226049 0.14980589 0.14572323 0.14649969 0.14259236\n",
      " 0.14256731 0.15421415 0.15739512 0.15716969 0.15453976 0.15180964\n",
      " 0.14765185 0.16713838 0.14901295 0.14998278]\n",
      "2 day output [[0.15064275]]\n",
      "3 day input [0.07428929 0.06930495 0.0639449  0.06376957 0.07165936 0.06359424\n",
      " 0.0626675  0.05808391 0.04809017 0.05703193 0.05783344 0.04566061\n",
      " 0.04889167 0.04553538 0.05705698 0.05838447 0.05983719 0.06675016\n",
      " 0.06654978 0.06993112 0.07288666 0.07105823 0.07120852 0.07772073\n",
      " 0.08583594 0.08939261 0.08771446 0.09297433 0.09790858 0.09056982\n",
      " 0.09380088 0.09665623 0.11015654 0.11937383 0.11243582 0.11974953\n",
      " 0.11291171 0.11028178 0.11063244 0.11774577 0.11611772 0.12145272\n",
      " 0.11739512 0.11448967 0.10429555 0.10537257 0.10659987 0.09986224\n",
      " 0.10289292 0.10161553 0.09635567 0.09785848 0.11068253 0.11769568\n",
      " 0.11211021 0.11529117 0.10958046 0.10434565 0.1092799  0.11458986\n",
      " 0.11559173 0.12275517 0.12062617 0.12663745 0.13134627 0.12771446\n",
      " 0.13046963 0.13377583 0.12884158 0.12726362 0.13507827 0.13906074\n",
      " 0.14542267 0.14860363 0.1472511  0.14256731 0.14482154 0.13823419\n",
      " 0.13515341 0.13340013 0.14707577 0.14619912 0.14624922 0.14935504\n",
      " 0.15226049 0.14980589 0.14572323 0.14649969 0.14259236 0.14256731\n",
      " 0.15421415 0.15739512 0.15716969 0.15453976 0.15180964 0.14765185\n",
      " 0.16713838 0.14901295 0.14998278 0.15064275]\n",
      "3 day output [[0.15098597]]\n",
      "4 day input [0.06930495 0.0639449  0.06376957 0.07165936 0.06359424 0.0626675\n",
      " 0.05808391 0.04809017 0.05703193 0.05783344 0.04566061 0.04889167\n",
      " 0.04553538 0.05705698 0.05838447 0.05983719 0.06675016 0.06654978\n",
      " 0.06993112 0.07288666 0.07105823 0.07120852 0.07772073 0.08583594\n",
      " 0.08939261 0.08771446 0.09297433 0.09790858 0.09056982 0.09380088\n",
      " 0.09665623 0.11015654 0.11937383 0.11243582 0.11974953 0.11291171\n",
      " 0.11028178 0.11063244 0.11774577 0.11611772 0.12145272 0.11739512\n",
      " 0.11448967 0.10429555 0.10537257 0.10659987 0.09986224 0.10289292\n",
      " 0.10161553 0.09635567 0.09785848 0.11068253 0.11769568 0.11211021\n",
      " 0.11529117 0.10958046 0.10434565 0.1092799  0.11458986 0.11559173\n",
      " 0.12275517 0.12062617 0.12663745 0.13134627 0.12771446 0.13046963\n",
      " 0.13377583 0.12884158 0.12726362 0.13507827 0.13906074 0.14542267\n",
      " 0.14860363 0.1472511  0.14256731 0.14482154 0.13823419 0.13515341\n",
      " 0.13340013 0.14707577 0.14619912 0.14624922 0.14935504 0.15226049\n",
      " 0.14980589 0.14572323 0.14649969 0.14259236 0.14256731 0.15421415\n",
      " 0.15739512 0.15716969 0.15453976 0.15180964 0.14765185 0.16713838\n",
      " 0.14901295 0.14998278 0.15064275 0.15098597]\n",
      "4 day output [[0.15106337]]\n",
      "5 day input [0.0639449  0.06376957 0.07165936 0.06359424 0.0626675  0.05808391\n",
      " 0.04809017 0.05703193 0.05783344 0.04566061 0.04889167 0.04553538\n",
      " 0.05705698 0.05838447 0.05983719 0.06675016 0.06654978 0.06993112\n",
      " 0.07288666 0.07105823 0.07120852 0.07772073 0.08583594 0.08939261\n",
      " 0.08771446 0.09297433 0.09790858 0.09056982 0.09380088 0.09665623\n",
      " 0.11015654 0.11937383 0.11243582 0.11974953 0.11291171 0.11028178\n",
      " 0.11063244 0.11774577 0.11611772 0.12145272 0.11739512 0.11448967\n",
      " 0.10429555 0.10537257 0.10659987 0.09986224 0.10289292 0.10161553\n",
      " 0.09635567 0.09785848 0.11068253 0.11769568 0.11211021 0.11529117\n",
      " 0.10958046 0.10434565 0.1092799  0.11458986 0.11559173 0.12275517\n",
      " 0.12062617 0.12663745 0.13134627 0.12771446 0.13046963 0.13377583\n",
      " 0.12884158 0.12726362 0.13507827 0.13906074 0.14542267 0.14860363\n",
      " 0.1472511  0.14256731 0.14482154 0.13823419 0.13515341 0.13340013\n",
      " 0.14707577 0.14619912 0.14624922 0.14935504 0.15226049 0.14980589\n",
      " 0.14572323 0.14649969 0.14259236 0.14256731 0.15421415 0.15739512\n",
      " 0.15716969 0.15453976 0.15180964 0.14765185 0.16713838 0.14901295\n",
      " 0.14998278 0.15064275 0.15098597 0.15106337]\n",
      "5 day output [[0.15093976]]\n",
      "6 day input [0.06376957 0.07165936 0.06359424 0.0626675  0.05808391 0.04809017\n",
      " 0.05703193 0.05783344 0.04566061 0.04889167 0.04553538 0.05705698\n",
      " 0.05838447 0.05983719 0.06675016 0.06654978 0.06993112 0.07288666\n",
      " 0.07105823 0.07120852 0.07772073 0.08583594 0.08939261 0.08771446\n",
      " 0.09297433 0.09790858 0.09056982 0.09380088 0.09665623 0.11015654\n",
      " 0.11937383 0.11243582 0.11974953 0.11291171 0.11028178 0.11063244\n",
      " 0.11774577 0.11611772 0.12145272 0.11739512 0.11448967 0.10429555\n",
      " 0.10537257 0.10659987 0.09986224 0.10289292 0.10161553 0.09635567\n",
      " 0.09785848 0.11068253 0.11769568 0.11211021 0.11529117 0.10958046\n",
      " 0.10434565 0.1092799  0.11458986 0.11559173 0.12275517 0.12062617\n",
      " 0.12663745 0.13134627 0.12771446 0.13046963 0.13377583 0.12884158\n",
      " 0.12726362 0.13507827 0.13906074 0.14542267 0.14860363 0.1472511\n",
      " 0.14256731 0.14482154 0.13823419 0.13515341 0.13340013 0.14707577\n",
      " 0.14619912 0.14624922 0.14935504 0.15226049 0.14980589 0.14572323\n",
      " 0.14649969 0.14259236 0.14256731 0.15421415 0.15739512 0.15716969\n",
      " 0.15453976 0.15180964 0.14765185 0.16713838 0.14901295 0.14998278\n",
      " 0.15064275 0.15098597 0.15106337 0.15093976]\n",
      "6 day output [[0.15067385]]\n",
      "7 day input [0.07165936 0.06359424 0.0626675  0.05808391 0.04809017 0.05703193\n",
      " 0.05783344 0.04566061 0.04889167 0.04553538 0.05705698 0.05838447\n",
      " 0.05983719 0.06675016 0.06654978 0.06993112 0.07288666 0.07105823\n",
      " 0.07120852 0.07772073 0.08583594 0.08939261 0.08771446 0.09297433\n",
      " 0.09790858 0.09056982 0.09380088 0.09665623 0.11015654 0.11937383\n",
      " 0.11243582 0.11974953 0.11291171 0.11028178 0.11063244 0.11774577\n",
      " 0.11611772 0.12145272 0.11739512 0.11448967 0.10429555 0.10537257\n",
      " 0.10659987 0.09986224 0.10289292 0.10161553 0.09635567 0.09785848\n",
      " 0.11068253 0.11769568 0.11211021 0.11529117 0.10958046 0.10434565\n",
      " 0.1092799  0.11458986 0.11559173 0.12275517 0.12062617 0.12663745\n",
      " 0.13134627 0.12771446 0.13046963 0.13377583 0.12884158 0.12726362\n",
      " 0.13507827 0.13906074 0.14542267 0.14860363 0.1472511  0.14256731\n",
      " 0.14482154 0.13823419 0.13515341 0.13340013 0.14707577 0.14619912\n",
      " 0.14624922 0.14935504 0.15226049 0.14980589 0.14572323 0.14649969\n",
      " 0.14259236 0.14256731 0.15421415 0.15739512 0.15716969 0.15453976\n",
      " 0.15180964 0.14765185 0.16713838 0.14901295 0.14998278 0.15064275\n",
      " 0.15098597 0.15106337 0.15093976 0.15067385]\n",
      "7 day output [[0.15031162]]\n",
      "8 day input [0.06359424 0.0626675  0.05808391 0.04809017 0.05703193 0.05783344\n",
      " 0.04566061 0.04889167 0.04553538 0.05705698 0.05838447 0.05983719\n",
      " 0.06675016 0.06654978 0.06993112 0.07288666 0.07105823 0.07120852\n",
      " 0.07772073 0.08583594 0.08939261 0.08771446 0.09297433 0.09790858\n",
      " 0.09056982 0.09380088 0.09665623 0.11015654 0.11937383 0.11243582\n",
      " 0.11974953 0.11291171 0.11028178 0.11063244 0.11774577 0.11611772\n",
      " 0.12145272 0.11739512 0.11448967 0.10429555 0.10537257 0.10659987\n",
      " 0.09986224 0.10289292 0.10161553 0.09635567 0.09785848 0.11068253\n",
      " 0.11769568 0.11211021 0.11529117 0.10958046 0.10434565 0.1092799\n",
      " 0.11458986 0.11559173 0.12275517 0.12062617 0.12663745 0.13134627\n",
      " 0.12771446 0.13046963 0.13377583 0.12884158 0.12726362 0.13507827\n",
      " 0.13906074 0.14542267 0.14860363 0.1472511  0.14256731 0.14482154\n",
      " 0.13823419 0.13515341 0.13340013 0.14707577 0.14619912 0.14624922\n",
      " 0.14935504 0.15226049 0.14980589 0.14572323 0.14649969 0.14259236\n",
      " 0.14256731 0.15421415 0.15739512 0.15716969 0.15453976 0.15180964\n",
      " 0.14765185 0.16713838 0.14901295 0.14998278 0.15064275 0.15098597\n",
      " 0.15106337 0.15093976 0.15067385 0.15031162]\n"
     ]
    },
    {
     "name": "stdout",
     "output_type": "stream",
     "text": [
      "8 day output [[0.14988618]]\n",
      "9 day input [0.0626675  0.05808391 0.04809017 0.05703193 0.05783344 0.04566061\n",
      " 0.04889167 0.04553538 0.05705698 0.05838447 0.05983719 0.06675016\n",
      " 0.06654978 0.06993112 0.07288666 0.07105823 0.07120852 0.07772073\n",
      " 0.08583594 0.08939261 0.08771446 0.09297433 0.09790858 0.09056982\n",
      " 0.09380088 0.09665623 0.11015654 0.11937383 0.11243582 0.11974953\n",
      " 0.11291171 0.11028178 0.11063244 0.11774577 0.11611772 0.12145272\n",
      " 0.11739512 0.11448967 0.10429555 0.10537257 0.10659987 0.09986224\n",
      " 0.10289292 0.10161553 0.09635567 0.09785848 0.11068253 0.11769568\n",
      " 0.11211021 0.11529117 0.10958046 0.10434565 0.1092799  0.11458986\n",
      " 0.11559173 0.12275517 0.12062617 0.12663745 0.13134627 0.12771446\n",
      " 0.13046963 0.13377583 0.12884158 0.12726362 0.13507827 0.13906074\n",
      " 0.14542267 0.14860363 0.1472511  0.14256731 0.14482154 0.13823419\n",
      " 0.13515341 0.13340013 0.14707577 0.14619912 0.14624922 0.14935504\n",
      " 0.15226049 0.14980589 0.14572323 0.14649969 0.14259236 0.14256731\n",
      " 0.15421415 0.15739512 0.15716969 0.15453976 0.15180964 0.14765185\n",
      " 0.16713838 0.14901295 0.14998278 0.15064275 0.15098597 0.15106337\n",
      " 0.15093976 0.15067385 0.15031162 0.14988618]\n",
      "9 day output [[0.1494201]]\n",
      "10 day input [0.05808391 0.04809017 0.05703193 0.05783344 0.04566061 0.04889167\n",
      " 0.04553538 0.05705698 0.05838447 0.05983719 0.06675016 0.06654978\n",
      " 0.06993112 0.07288666 0.07105823 0.07120852 0.07772073 0.08583594\n",
      " 0.08939261 0.08771446 0.09297433 0.09790858 0.09056982 0.09380088\n",
      " 0.09665623 0.11015654 0.11937383 0.11243582 0.11974953 0.11291171\n",
      " 0.11028178 0.11063244 0.11774577 0.11611772 0.12145272 0.11739512\n",
      " 0.11448967 0.10429555 0.10537257 0.10659987 0.09986224 0.10289292\n",
      " 0.10161553 0.09635567 0.09785848 0.11068253 0.11769568 0.11211021\n",
      " 0.11529117 0.10958046 0.10434565 0.1092799  0.11458986 0.11559173\n",
      " 0.12275517 0.12062617 0.12663745 0.13134627 0.12771446 0.13046963\n",
      " 0.13377583 0.12884158 0.12726362 0.13507827 0.13906074 0.14542267\n",
      " 0.14860363 0.1472511  0.14256731 0.14482154 0.13823419 0.13515341\n",
      " 0.13340013 0.14707577 0.14619912 0.14624922 0.14935504 0.15226049\n",
      " 0.14980589 0.14572323 0.14649969 0.14259236 0.14256731 0.15421415\n",
      " 0.15739512 0.15716969 0.15453976 0.15180964 0.14765185 0.16713838\n",
      " 0.14901295 0.14998278 0.15064275 0.15098597 0.15106337 0.15093976\n",
      " 0.15067385 0.15031162 0.14988618 0.1494201 ]\n",
      "10 day output [[0.14892809]]\n",
      "11 day input [0.04809017 0.05703193 0.05783344 0.04566061 0.04889167 0.04553538\n",
      " 0.05705698 0.05838447 0.05983719 0.06675016 0.06654978 0.06993112\n",
      " 0.07288666 0.07105823 0.07120852 0.07772073 0.08583594 0.08939261\n",
      " 0.08771446 0.09297433 0.09790858 0.09056982 0.09380088 0.09665623\n",
      " 0.11015654 0.11937383 0.11243582 0.11974953 0.11291171 0.11028178\n",
      " 0.11063244 0.11774577 0.11611772 0.12145272 0.11739512 0.11448967\n",
      " 0.10429555 0.10537257 0.10659987 0.09986224 0.10289292 0.10161553\n",
      " 0.09635567 0.09785848 0.11068253 0.11769568 0.11211021 0.11529117\n",
      " 0.10958046 0.10434565 0.1092799  0.11458986 0.11559173 0.12275517\n",
      " 0.12062617 0.12663745 0.13134627 0.12771446 0.13046963 0.13377583\n",
      " 0.12884158 0.12726362 0.13507827 0.13906074 0.14542267 0.14860363\n",
      " 0.1472511  0.14256731 0.14482154 0.13823419 0.13515341 0.13340013\n",
      " 0.14707577 0.14619912 0.14624922 0.14935504 0.15226049 0.14980589\n",
      " 0.14572323 0.14649969 0.14259236 0.14256731 0.15421415 0.15739512\n",
      " 0.15716969 0.15453976 0.15180964 0.14765185 0.16713838 0.14901295\n",
      " 0.14998278 0.15064275 0.15098597 0.15106337 0.15093976 0.15067385\n",
      " 0.15031162 0.14988618 0.1494201  0.14892809]\n",
      "11 day output [[0.14841962]]\n",
      "12 day input [0.05703193 0.05783344 0.04566061 0.04889167 0.04553538 0.05705698\n",
      " 0.05838447 0.05983719 0.06675016 0.06654978 0.06993112 0.07288666\n",
      " 0.07105823 0.07120852 0.07772073 0.08583594 0.08939261 0.08771446\n",
      " 0.09297433 0.09790858 0.09056982 0.09380088 0.09665623 0.11015654\n",
      " 0.11937383 0.11243582 0.11974953 0.11291171 0.11028178 0.11063244\n",
      " 0.11774577 0.11611772 0.12145272 0.11739512 0.11448967 0.10429555\n",
      " 0.10537257 0.10659987 0.09986224 0.10289292 0.10161553 0.09635567\n",
      " 0.09785848 0.11068253 0.11769568 0.11211021 0.11529117 0.10958046\n",
      " 0.10434565 0.1092799  0.11458986 0.11559173 0.12275517 0.12062617\n",
      " 0.12663745 0.13134627 0.12771446 0.13046963 0.13377583 0.12884158\n",
      " 0.12726362 0.13507827 0.13906074 0.14542267 0.14860363 0.1472511\n",
      " 0.14256731 0.14482154 0.13823419 0.13515341 0.13340013 0.14707577\n",
      " 0.14619912 0.14624922 0.14935504 0.15226049 0.14980589 0.14572323\n",
      " 0.14649969 0.14259236 0.14256731 0.15421415 0.15739512 0.15716969\n",
      " 0.15453976 0.15180964 0.14765185 0.16713838 0.14901295 0.14998278\n",
      " 0.15064275 0.15098597 0.15106337 0.15093976 0.15067385 0.15031162\n",
      " 0.14988618 0.1494201  0.14892809 0.14841962]\n",
      "12 day output [[0.14790055]]\n",
      "13 day input [0.05783344 0.04566061 0.04889167 0.04553538 0.05705698 0.05838447\n",
      " 0.05983719 0.06675016 0.06654978 0.06993112 0.07288666 0.07105823\n",
      " 0.07120852 0.07772073 0.08583594 0.08939261 0.08771446 0.09297433\n",
      " 0.09790858 0.09056982 0.09380088 0.09665623 0.11015654 0.11937383\n",
      " 0.11243582 0.11974953 0.11291171 0.11028178 0.11063244 0.11774577\n",
      " 0.11611772 0.12145272 0.11739512 0.11448967 0.10429555 0.10537257\n",
      " 0.10659987 0.09986224 0.10289292 0.10161553 0.09635567 0.09785848\n",
      " 0.11068253 0.11769568 0.11211021 0.11529117 0.10958046 0.10434565\n",
      " 0.1092799  0.11458986 0.11559173 0.12275517 0.12062617 0.12663745\n",
      " 0.13134627 0.12771446 0.13046963 0.13377583 0.12884158 0.12726362\n",
      " 0.13507827 0.13906074 0.14542267 0.14860363 0.1472511  0.14256731\n",
      " 0.14482154 0.13823419 0.13515341 0.13340013 0.14707577 0.14619912\n",
      " 0.14624922 0.14935504 0.15226049 0.14980589 0.14572323 0.14649969\n",
      " 0.14259236 0.14256731 0.15421415 0.15739512 0.15716969 0.15453976\n",
      " 0.15180964 0.14765185 0.16713838 0.14901295 0.14998278 0.15064275\n",
      " 0.15098597 0.15106337 0.15093976 0.15067385 0.15031162 0.14988618\n",
      " 0.1494201  0.14892809 0.14841962 0.14790055]\n",
      "13 day output [[0.14737464]]\n",
      "14 day input [0.04566061 0.04889167 0.04553538 0.05705698 0.05838447 0.05983719\n",
      " 0.06675016 0.06654978 0.06993112 0.07288666 0.07105823 0.07120852\n",
      " 0.07772073 0.08583594 0.08939261 0.08771446 0.09297433 0.09790858\n",
      " 0.09056982 0.09380088 0.09665623 0.11015654 0.11937383 0.11243582\n",
      " 0.11974953 0.11291171 0.11028178 0.11063244 0.11774577 0.11611772\n",
      " 0.12145272 0.11739512 0.11448967 0.10429555 0.10537257 0.10659987\n",
      " 0.09986224 0.10289292 0.10161553 0.09635567 0.09785848 0.11068253\n",
      " 0.11769568 0.11211021 0.11529117 0.10958046 0.10434565 0.1092799\n",
      " 0.11458986 0.11559173 0.12275517 0.12062617 0.12663745 0.13134627\n",
      " 0.12771446 0.13046963 0.13377583 0.12884158 0.12726362 0.13507827\n",
      " 0.13906074 0.14542267 0.14860363 0.1472511  0.14256731 0.14482154\n",
      " 0.13823419 0.13515341 0.13340013 0.14707577 0.14619912 0.14624922\n",
      " 0.14935504 0.15226049 0.14980589 0.14572323 0.14649969 0.14259236\n",
      " 0.14256731 0.15421415 0.15739512 0.15716969 0.15453976 0.15180964\n",
      " 0.14765185 0.16713838 0.14901295 0.14998278 0.15064275 0.15098597\n",
      " 0.15106337 0.15093976 0.15067385 0.15031162 0.14988618 0.1494201\n",
      " 0.14892809 0.14841962 0.14790055 0.14737464]\n",
      "14 day output [[0.14684413]]\n",
      "15 day input [0.04889167 0.04553538 0.05705698 0.05838447 0.05983719 0.06675016\n",
      " 0.06654978 0.06993112 0.07288666 0.07105823 0.07120852 0.07772073\n",
      " 0.08583594 0.08939261 0.08771446 0.09297433 0.09790858 0.09056982\n",
      " 0.09380088 0.09665623 0.11015654 0.11937383 0.11243582 0.11974953\n",
      " 0.11291171 0.11028178 0.11063244 0.11774577 0.11611772 0.12145272\n",
      " 0.11739512 0.11448967 0.10429555 0.10537257 0.10659987 0.09986224\n",
      " 0.10289292 0.10161553 0.09635567 0.09785848 0.11068253 0.11769568\n",
      " 0.11211021 0.11529117 0.10958046 0.10434565 0.1092799  0.11458986\n",
      " 0.11559173 0.12275517 0.12062617 0.12663745 0.13134627 0.12771446\n",
      " 0.13046963 0.13377583 0.12884158 0.12726362 0.13507827 0.13906074\n",
      " 0.14542267 0.14860363 0.1472511  0.14256731 0.14482154 0.13823419\n",
      " 0.13515341 0.13340013 0.14707577 0.14619912 0.14624922 0.14935504\n",
      " 0.15226049 0.14980589 0.14572323 0.14649969 0.14259236 0.14256731\n",
      " 0.15421415 0.15739512 0.15716969 0.15453976 0.15180964 0.14765185\n",
      " 0.16713838 0.14901295 0.14998278 0.15064275 0.15098597 0.15106337\n",
      " 0.15093976 0.15067385 0.15031162 0.14988618 0.1494201  0.14892809\n",
      " 0.14841962 0.14790055 0.14737464 0.14684413]\n",
      "15 day output [[0.14631043]]\n",
      "16 day input [0.04553538 0.05705698 0.05838447 0.05983719 0.06675016 0.06654978\n",
      " 0.06993112 0.07288666 0.07105823 0.07120852 0.07772073 0.08583594\n",
      " 0.08939261 0.08771446 0.09297433 0.09790858 0.09056982 0.09380088\n",
      " 0.09665623 0.11015654 0.11937383 0.11243582 0.11974953 0.11291171\n",
      " 0.11028178 0.11063244 0.11774577 0.11611772 0.12145272 0.11739512\n",
      " 0.11448967 0.10429555 0.10537257 0.10659987 0.09986224 0.10289292\n",
      " 0.10161553 0.09635567 0.09785848 0.11068253 0.11769568 0.11211021\n",
      " 0.11529117 0.10958046 0.10434565 0.1092799  0.11458986 0.11559173\n",
      " 0.12275517 0.12062617 0.12663745 0.13134627 0.12771446 0.13046963\n",
      " 0.13377583 0.12884158 0.12726362 0.13507827 0.13906074 0.14542267\n",
      " 0.14860363 0.1472511  0.14256731 0.14482154 0.13823419 0.13515341\n",
      " 0.13340013 0.14707577 0.14619912 0.14624922 0.14935504 0.15226049\n",
      " 0.14980589 0.14572323 0.14649969 0.14259236 0.14256731 0.15421415\n",
      " 0.15739512 0.15716969 0.15453976 0.15180964 0.14765185 0.16713838\n",
      " 0.14901295 0.14998278 0.15064275 0.15098597 0.15106337 0.15093976\n",
      " 0.15067385 0.15031162 0.14988618 0.1494201  0.14892809 0.14841962\n",
      " 0.14790055 0.14737464 0.14684413 0.14631043]\n",
      "16 day output [[0.14577436]]\n",
      "17 day input [0.05705698 0.05838447 0.05983719 0.06675016 0.06654978 0.06993112\n",
      " 0.07288666 0.07105823 0.07120852 0.07772073 0.08583594 0.08939261\n",
      " 0.08771446 0.09297433 0.09790858 0.09056982 0.09380088 0.09665623\n",
      " 0.11015654 0.11937383 0.11243582 0.11974953 0.11291171 0.11028178\n",
      " 0.11063244 0.11774577 0.11611772 0.12145272 0.11739512 0.11448967\n",
      " 0.10429555 0.10537257 0.10659987 0.09986224 0.10289292 0.10161553\n",
      " 0.09635567 0.09785848 0.11068253 0.11769568 0.11211021 0.11529117\n",
      " 0.10958046 0.10434565 0.1092799  0.11458986 0.11559173 0.12275517\n",
      " 0.12062617 0.12663745 0.13134627 0.12771446 0.13046963 0.13377583\n",
      " 0.12884158 0.12726362 0.13507827 0.13906074 0.14542267 0.14860363\n",
      " 0.1472511  0.14256731 0.14482154 0.13823419 0.13515341 0.13340013\n",
      " 0.14707577 0.14619912 0.14624922 0.14935504 0.15226049 0.14980589\n",
      " 0.14572323 0.14649969 0.14259236 0.14256731 0.15421415 0.15739512\n",
      " 0.15716969 0.15453976 0.15180964 0.14765185 0.16713838 0.14901295\n",
      " 0.14998278 0.15064275 0.15098597 0.15106337 0.15093976 0.15067385\n",
      " 0.15031162 0.14988618 0.1494201  0.14892809 0.14841962 0.14790055\n",
      " 0.14737464 0.14684413 0.14631043 0.14577436]\n"
     ]
    },
    {
     "name": "stdout",
     "output_type": "stream",
     "text": [
      "17 day output [[0.14523625]]\n",
      "18 day input [0.05838447 0.05983719 0.06675016 0.06654978 0.06993112 0.07288666\n",
      " 0.07105823 0.07120852 0.07772073 0.08583594 0.08939261 0.08771446\n",
      " 0.09297433 0.09790858 0.09056982 0.09380088 0.09665623 0.11015654\n",
      " 0.11937383 0.11243582 0.11974953 0.11291171 0.11028178 0.11063244\n",
      " 0.11774577 0.11611772 0.12145272 0.11739512 0.11448967 0.10429555\n",
      " 0.10537257 0.10659987 0.09986224 0.10289292 0.10161553 0.09635567\n",
      " 0.09785848 0.11068253 0.11769568 0.11211021 0.11529117 0.10958046\n",
      " 0.10434565 0.1092799  0.11458986 0.11559173 0.12275517 0.12062617\n",
      " 0.12663745 0.13134627 0.12771446 0.13046963 0.13377583 0.12884158\n",
      " 0.12726362 0.13507827 0.13906074 0.14542267 0.14860363 0.1472511\n",
      " 0.14256731 0.14482154 0.13823419 0.13515341 0.13340013 0.14707577\n",
      " 0.14619912 0.14624922 0.14935504 0.15226049 0.14980589 0.14572323\n",
      " 0.14649969 0.14259236 0.14256731 0.15421415 0.15739512 0.15716969\n",
      " 0.15453976 0.15180964 0.14765185 0.16713838 0.14901295 0.14998278\n",
      " 0.15064275 0.15098597 0.15106337 0.15093976 0.15067385 0.15031162\n",
      " 0.14988618 0.1494201  0.14892809 0.14841962 0.14790055 0.14737464\n",
      " 0.14684413 0.14631043 0.14577436 0.14523625]\n",
      "18 day output [[0.14469619]]\n",
      "19 day input [0.05983719 0.06675016 0.06654978 0.06993112 0.07288666 0.07105823\n",
      " 0.07120852 0.07772073 0.08583594 0.08939261 0.08771446 0.09297433\n",
      " 0.09790858 0.09056982 0.09380088 0.09665623 0.11015654 0.11937383\n",
      " 0.11243582 0.11974953 0.11291171 0.11028178 0.11063244 0.11774577\n",
      " 0.11611772 0.12145272 0.11739512 0.11448967 0.10429555 0.10537257\n",
      " 0.10659987 0.09986224 0.10289292 0.10161553 0.09635567 0.09785848\n",
      " 0.11068253 0.11769568 0.11211021 0.11529117 0.10958046 0.10434565\n",
      " 0.1092799  0.11458986 0.11559173 0.12275517 0.12062617 0.12663745\n",
      " 0.13134627 0.12771446 0.13046963 0.13377583 0.12884158 0.12726362\n",
      " 0.13507827 0.13906074 0.14542267 0.14860363 0.1472511  0.14256731\n",
      " 0.14482154 0.13823419 0.13515341 0.13340013 0.14707577 0.14619912\n",
      " 0.14624922 0.14935504 0.15226049 0.14980589 0.14572323 0.14649969\n",
      " 0.14259236 0.14256731 0.15421415 0.15739512 0.15716969 0.15453976\n",
      " 0.15180964 0.14765185 0.16713838 0.14901295 0.14998278 0.15064275\n",
      " 0.15098597 0.15106337 0.15093976 0.15067385 0.15031162 0.14988618\n",
      " 0.1494201  0.14892809 0.14841962 0.14790055 0.14737464 0.14684413\n",
      " 0.14631043 0.14577436 0.14523625 0.14469619]\n",
      "19 day output [[0.14415395]]\n",
      "20 day input [0.06675016 0.06654978 0.06993112 0.07288666 0.07105823 0.07120852\n",
      " 0.07772073 0.08583594 0.08939261 0.08771446 0.09297433 0.09790858\n",
      " 0.09056982 0.09380088 0.09665623 0.11015654 0.11937383 0.11243582\n",
      " 0.11974953 0.11291171 0.11028178 0.11063244 0.11774577 0.11611772\n",
      " 0.12145272 0.11739512 0.11448967 0.10429555 0.10537257 0.10659987\n",
      " 0.09986224 0.10289292 0.10161553 0.09635567 0.09785848 0.11068253\n",
      " 0.11769568 0.11211021 0.11529117 0.10958046 0.10434565 0.1092799\n",
      " 0.11458986 0.11559173 0.12275517 0.12062617 0.12663745 0.13134627\n",
      " 0.12771446 0.13046963 0.13377583 0.12884158 0.12726362 0.13507827\n",
      " 0.13906074 0.14542267 0.14860363 0.1472511  0.14256731 0.14482154\n",
      " 0.13823419 0.13515341 0.13340013 0.14707577 0.14619912 0.14624922\n",
      " 0.14935504 0.15226049 0.14980589 0.14572323 0.14649969 0.14259236\n",
      " 0.14256731 0.15421415 0.15739512 0.15716969 0.15453976 0.15180964\n",
      " 0.14765185 0.16713838 0.14901295 0.14998278 0.15064275 0.15098597\n",
      " 0.15106337 0.15093976 0.15067385 0.15031162 0.14988618 0.1494201\n",
      " 0.14892809 0.14841962 0.14790055 0.14737464 0.14684413 0.14631043\n",
      " 0.14577436 0.14523625 0.14469619 0.14415395]\n",
      "20 day output [[0.14360918]]\n",
      "21 day input [0.06654978 0.06993112 0.07288666 0.07105823 0.07120852 0.07772073\n",
      " 0.08583594 0.08939261 0.08771446 0.09297433 0.09790858 0.09056982\n",
      " 0.09380088 0.09665623 0.11015654 0.11937383 0.11243582 0.11974953\n",
      " 0.11291171 0.11028178 0.11063244 0.11774577 0.11611772 0.12145272\n",
      " 0.11739512 0.11448967 0.10429555 0.10537257 0.10659987 0.09986224\n",
      " 0.10289292 0.10161553 0.09635567 0.09785848 0.11068253 0.11769568\n",
      " 0.11211021 0.11529117 0.10958046 0.10434565 0.1092799  0.11458986\n",
      " 0.11559173 0.12275517 0.12062617 0.12663745 0.13134627 0.12771446\n",
      " 0.13046963 0.13377583 0.12884158 0.12726362 0.13507827 0.13906074\n",
      " 0.14542267 0.14860363 0.1472511  0.14256731 0.14482154 0.13823419\n",
      " 0.13515341 0.13340013 0.14707577 0.14619912 0.14624922 0.14935504\n",
      " 0.15226049 0.14980589 0.14572323 0.14649969 0.14259236 0.14256731\n",
      " 0.15421415 0.15739512 0.15716969 0.15453976 0.15180964 0.14765185\n",
      " 0.16713838 0.14901295 0.14998278 0.15064275 0.15098597 0.15106337\n",
      " 0.15093976 0.15067385 0.15031162 0.14988618 0.1494201  0.14892809\n",
      " 0.14841962 0.14790055 0.14737464 0.14684413 0.14631043 0.14577436\n",
      " 0.14523625 0.14469619 0.14415395 0.14360918]\n",
      "21 day output [[0.14306144]]\n",
      "22 day input [0.06993112 0.07288666 0.07105823 0.07120852 0.07772073 0.08583594\n",
      " 0.08939261 0.08771446 0.09297433 0.09790858 0.09056982 0.09380088\n",
      " 0.09665623 0.11015654 0.11937383 0.11243582 0.11974953 0.11291171\n",
      " 0.11028178 0.11063244 0.11774577 0.11611772 0.12145272 0.11739512\n",
      " 0.11448967 0.10429555 0.10537257 0.10659987 0.09986224 0.10289292\n",
      " 0.10161553 0.09635567 0.09785848 0.11068253 0.11769568 0.11211021\n",
      " 0.11529117 0.10958046 0.10434565 0.1092799  0.11458986 0.11559173\n",
      " 0.12275517 0.12062617 0.12663745 0.13134627 0.12771446 0.13046963\n",
      " 0.13377583 0.12884158 0.12726362 0.13507827 0.13906074 0.14542267\n",
      " 0.14860363 0.1472511  0.14256731 0.14482154 0.13823419 0.13515341\n",
      " 0.13340013 0.14707577 0.14619912 0.14624922 0.14935504 0.15226049\n",
      " 0.14980589 0.14572323 0.14649969 0.14259236 0.14256731 0.15421415\n",
      " 0.15739512 0.15716969 0.15453976 0.15180964 0.14765185 0.16713838\n",
      " 0.14901295 0.14998278 0.15064275 0.15098597 0.15106337 0.15093976\n",
      " 0.15067385 0.15031162 0.14988618 0.1494201  0.14892809 0.14841962\n",
      " 0.14790055 0.14737464 0.14684413 0.14631043 0.14577436 0.14523625\n",
      " 0.14469619 0.14415395 0.14360918 0.14306144]\n",
      "22 day output [[0.1425101]]\n",
      "23 day input [0.07288666 0.07105823 0.07120852 0.07772073 0.08583594 0.08939261\n",
      " 0.08771446 0.09297433 0.09790858 0.09056982 0.09380088 0.09665623\n",
      " 0.11015654 0.11937383 0.11243582 0.11974953 0.11291171 0.11028178\n",
      " 0.11063244 0.11774577 0.11611772 0.12145272 0.11739512 0.11448967\n",
      " 0.10429555 0.10537257 0.10659987 0.09986224 0.10289292 0.10161553\n",
      " 0.09635567 0.09785848 0.11068253 0.11769568 0.11211021 0.11529117\n",
      " 0.10958046 0.10434565 0.1092799  0.11458986 0.11559173 0.12275517\n",
      " 0.12062617 0.12663745 0.13134627 0.12771446 0.13046963 0.13377583\n",
      " 0.12884158 0.12726362 0.13507827 0.13906074 0.14542267 0.14860363\n",
      " 0.1472511  0.14256731 0.14482154 0.13823419 0.13515341 0.13340013\n",
      " 0.14707577 0.14619912 0.14624922 0.14935504 0.15226049 0.14980589\n",
      " 0.14572323 0.14649969 0.14259236 0.14256731 0.15421415 0.15739512\n",
      " 0.15716969 0.15453976 0.15180964 0.14765185 0.16713838 0.14901295\n",
      " 0.14998278 0.15064275 0.15098597 0.15106337 0.15093976 0.15067385\n",
      " 0.15031162 0.14988618 0.1494201  0.14892809 0.14841962 0.14790055\n",
      " 0.14737464 0.14684413 0.14631043 0.14577436 0.14523625 0.14469619\n",
      " 0.14415395 0.14360918 0.14306144 0.1425101 ]\n",
      "23 day output [[0.14195459]]\n",
      "24 day input [0.07105823 0.07120852 0.07772073 0.08583594 0.08939261 0.08771446\n",
      " 0.09297433 0.09790858 0.09056982 0.09380088 0.09665623 0.11015654\n",
      " 0.11937383 0.11243582 0.11974953 0.11291171 0.11028178 0.11063244\n",
      " 0.11774577 0.11611772 0.12145272 0.11739512 0.11448967 0.10429555\n",
      " 0.10537257 0.10659987 0.09986224 0.10289292 0.10161553 0.09635567\n",
      " 0.09785848 0.11068253 0.11769568 0.11211021 0.11529117 0.10958046\n",
      " 0.10434565 0.1092799  0.11458986 0.11559173 0.12275517 0.12062617\n",
      " 0.12663745 0.13134627 0.12771446 0.13046963 0.13377583 0.12884158\n",
      " 0.12726362 0.13507827 0.13906074 0.14542267 0.14860363 0.1472511\n",
      " 0.14256731 0.14482154 0.13823419 0.13515341 0.13340013 0.14707577\n",
      " 0.14619912 0.14624922 0.14935504 0.15226049 0.14980589 0.14572323\n",
      " 0.14649969 0.14259236 0.14256731 0.15421415 0.15739512 0.15716969\n",
      " 0.15453976 0.15180964 0.14765185 0.16713838 0.14901295 0.14998278\n",
      " 0.15064275 0.15098597 0.15106337 0.15093976 0.15067385 0.15031162\n",
      " 0.14988618 0.1494201  0.14892809 0.14841962 0.14790055 0.14737464\n",
      " 0.14684413 0.14631043 0.14577436 0.14523625 0.14469619 0.14415395\n",
      " 0.14360918 0.14306144 0.1425101  0.14195459]\n",
      "24 day output [[0.14139421]]\n",
      "25 day input [0.07120852 0.07772073 0.08583594 0.08939261 0.08771446 0.09297433\n",
      " 0.09790858 0.09056982 0.09380088 0.09665623 0.11015654 0.11937383\n",
      " 0.11243582 0.11974953 0.11291171 0.11028178 0.11063244 0.11774577\n",
      " 0.11611772 0.12145272 0.11739512 0.11448967 0.10429555 0.10537257\n",
      " 0.10659987 0.09986224 0.10289292 0.10161553 0.09635567 0.09785848\n",
      " 0.11068253 0.11769568 0.11211021 0.11529117 0.10958046 0.10434565\n",
      " 0.1092799  0.11458986 0.11559173 0.12275517 0.12062617 0.12663745\n",
      " 0.13134627 0.12771446 0.13046963 0.13377583 0.12884158 0.12726362\n",
      " 0.13507827 0.13906074 0.14542267 0.14860363 0.1472511  0.14256731\n",
      " 0.14482154 0.13823419 0.13515341 0.13340013 0.14707577 0.14619912\n",
      " 0.14624922 0.14935504 0.15226049 0.14980589 0.14572323 0.14649969\n",
      " 0.14259236 0.14256731 0.15421415 0.15739512 0.15716969 0.15453976\n",
      " 0.15180964 0.14765185 0.16713838 0.14901295 0.14998278 0.15064275\n",
      " 0.15098597 0.15106337 0.15093976 0.15067385 0.15031162 0.14988618\n",
      " 0.1494201  0.14892809 0.14841962 0.14790055 0.14737464 0.14684413\n",
      " 0.14631043 0.14577436 0.14523625 0.14469619 0.14415395 0.14360918\n",
      " 0.14306144 0.1425101  0.14195459 0.14139421]\n"
     ]
    },
    {
     "name": "stdout",
     "output_type": "stream",
     "text": [
      "25 day output [[0.1408283]]\n",
      "26 day input [0.07772073 0.08583594 0.08939261 0.08771446 0.09297433 0.09790858\n",
      " 0.09056982 0.09380088 0.09665623 0.11015654 0.11937383 0.11243582\n",
      " 0.11974953 0.11291171 0.11028178 0.11063244 0.11774577 0.11611772\n",
      " 0.12145272 0.11739512 0.11448967 0.10429555 0.10537257 0.10659987\n",
      " 0.09986224 0.10289292 0.10161553 0.09635567 0.09785848 0.11068253\n",
      " 0.11769568 0.11211021 0.11529117 0.10958046 0.10434565 0.1092799\n",
      " 0.11458986 0.11559173 0.12275517 0.12062617 0.12663745 0.13134627\n",
      " 0.12771446 0.13046963 0.13377583 0.12884158 0.12726362 0.13507827\n",
      " 0.13906074 0.14542267 0.14860363 0.1472511  0.14256731 0.14482154\n",
      " 0.13823419 0.13515341 0.13340013 0.14707577 0.14619912 0.14624922\n",
      " 0.14935504 0.15226049 0.14980589 0.14572323 0.14649969 0.14259236\n",
      " 0.14256731 0.15421415 0.15739512 0.15716969 0.15453976 0.15180964\n",
      " 0.14765185 0.16713838 0.14901295 0.14998278 0.15064275 0.15098597\n",
      " 0.15106337 0.15093976 0.15067385 0.15031162 0.14988618 0.1494201\n",
      " 0.14892809 0.14841962 0.14790055 0.14737464 0.14684413 0.14631043\n",
      " 0.14577436 0.14523625 0.14469619 0.14415395 0.14360918 0.14306144\n",
      " 0.1425101  0.14195459 0.14139421 0.1408283 ]\n",
      "26 day output [[0.14025627]]\n",
      "27 day input [0.08583594 0.08939261 0.08771446 0.09297433 0.09790858 0.09056982\n",
      " 0.09380088 0.09665623 0.11015654 0.11937383 0.11243582 0.11974953\n",
      " 0.11291171 0.11028178 0.11063244 0.11774577 0.11611772 0.12145272\n",
      " 0.11739512 0.11448967 0.10429555 0.10537257 0.10659987 0.09986224\n",
      " 0.10289292 0.10161553 0.09635567 0.09785848 0.11068253 0.11769568\n",
      " 0.11211021 0.11529117 0.10958046 0.10434565 0.1092799  0.11458986\n",
      " 0.11559173 0.12275517 0.12062617 0.12663745 0.13134627 0.12771446\n",
      " 0.13046963 0.13377583 0.12884158 0.12726362 0.13507827 0.13906074\n",
      " 0.14542267 0.14860363 0.1472511  0.14256731 0.14482154 0.13823419\n",
      " 0.13515341 0.13340013 0.14707577 0.14619912 0.14624922 0.14935504\n",
      " 0.15226049 0.14980589 0.14572323 0.14649969 0.14259236 0.14256731\n",
      " 0.15421415 0.15739512 0.15716969 0.15453976 0.15180964 0.14765185\n",
      " 0.16713838 0.14901295 0.14998278 0.15064275 0.15098597 0.15106337\n",
      " 0.15093976 0.15067385 0.15031162 0.14988618 0.1494201  0.14892809\n",
      " 0.14841962 0.14790055 0.14737464 0.14684413 0.14631043 0.14577436\n",
      " 0.14523625 0.14469619 0.14415395 0.14360918 0.14306144 0.1425101\n",
      " 0.14195459 0.14139421 0.1408283  0.14025627]\n",
      "27 day output [[0.13967744]]\n",
      "28 day input [0.08939261 0.08771446 0.09297433 0.09790858 0.09056982 0.09380088\n",
      " 0.09665623 0.11015654 0.11937383 0.11243582 0.11974953 0.11291171\n",
      " 0.11028178 0.11063244 0.11774577 0.11611772 0.12145272 0.11739512\n",
      " 0.11448967 0.10429555 0.10537257 0.10659987 0.09986224 0.10289292\n",
      " 0.10161553 0.09635567 0.09785848 0.11068253 0.11769568 0.11211021\n",
      " 0.11529117 0.10958046 0.10434565 0.1092799  0.11458986 0.11559173\n",
      " 0.12275517 0.12062617 0.12663745 0.13134627 0.12771446 0.13046963\n",
      " 0.13377583 0.12884158 0.12726362 0.13507827 0.13906074 0.14542267\n",
      " 0.14860363 0.1472511  0.14256731 0.14482154 0.13823419 0.13515341\n",
      " 0.13340013 0.14707577 0.14619912 0.14624922 0.14935504 0.15226049\n",
      " 0.14980589 0.14572323 0.14649969 0.14259236 0.14256731 0.15421415\n",
      " 0.15739512 0.15716969 0.15453976 0.15180964 0.14765185 0.16713838\n",
      " 0.14901295 0.14998278 0.15064275 0.15098597 0.15106337 0.15093976\n",
      " 0.15067385 0.15031162 0.14988618 0.1494201  0.14892809 0.14841962\n",
      " 0.14790055 0.14737464 0.14684413 0.14631043 0.14577436 0.14523625\n",
      " 0.14469619 0.14415395 0.14360918 0.14306144 0.1425101  0.14195459\n",
      " 0.14139421 0.1408283  0.14025627 0.13967744]\n",
      "28 day output [[0.13909127]]\n",
      "29 day input [0.08771446 0.09297433 0.09790858 0.09056982 0.09380088 0.09665623\n",
      " 0.11015654 0.11937383 0.11243582 0.11974953 0.11291171 0.11028178\n",
      " 0.11063244 0.11774577 0.11611772 0.12145272 0.11739512 0.11448967\n",
      " 0.10429555 0.10537257 0.10659987 0.09986224 0.10289292 0.10161553\n",
      " 0.09635567 0.09785848 0.11068253 0.11769568 0.11211021 0.11529117\n",
      " 0.10958046 0.10434565 0.1092799  0.11458986 0.11559173 0.12275517\n",
      " 0.12062617 0.12663745 0.13134627 0.12771446 0.13046963 0.13377583\n",
      " 0.12884158 0.12726362 0.13507827 0.13906074 0.14542267 0.14860363\n",
      " 0.1472511  0.14256731 0.14482154 0.13823419 0.13515341 0.13340013\n",
      " 0.14707577 0.14619912 0.14624922 0.14935504 0.15226049 0.14980589\n",
      " 0.14572323 0.14649969 0.14259236 0.14256731 0.15421415 0.15739512\n",
      " 0.15716969 0.15453976 0.15180964 0.14765185 0.16713838 0.14901295\n",
      " 0.14998278 0.15064275 0.15098597 0.15106337 0.15093976 0.15067385\n",
      " 0.15031162 0.14988618 0.1494201  0.14892809 0.14841962 0.14790055\n",
      " 0.14737464 0.14684413 0.14631043 0.14577436 0.14523625 0.14469619\n",
      " 0.14415395 0.14360918 0.14306144 0.1425101  0.14195459 0.14139421\n",
      " 0.1408283  0.14025627 0.13967744 0.13909127]\n",
      "29 day output [[0.13849725]]\n",
      "[[0.149012953042984], [0.1499827802181244], [0.1506427526473999], [0.1509859710931778], [0.15106336772441864], [0.15093976259231567], [0.15067385137081146], [0.15031161904335022], [0.14988617599010468], [0.1494200974702835], [0.14892809092998505], [0.14841961860656738], [0.1479005515575409], [0.14737464487552643], [0.14684413373470306], [0.14631043374538422], [0.14577436447143555], [0.14523625373840332], [0.1446961909532547], [0.14415395259857178], [0.1436091810464859], [0.14306144416332245], [0.14251010119915009], [0.14195458590984344], [0.1413942128419876], [0.14082829654216766], [0.14025627076625824], [0.13967743515968323], [0.13909126818180084], [0.1384972482919693]]\n"
     ]
    }
   ],
   "source": [
    "# demonstrate prediction for next 10 days\n",
    "\n",
    "lst_output=[]\n",
    "n_steps = 100\n",
    "i = 0\n",
    "while(i < 30):\n",
    "    if(len(temp_input) > 100):\n",
    "        #print(temp_input)\n",
    "        x_input=np.array(temp_input[1:])\n",
    "        print(\"{} day input {}\".format(i, x_input))\n",
    "        x_input = x_input.reshape(1, -1)\n",
    "        x_input = x_input.reshape((1, n_steps, 1))\n",
    "        #print(x_input)\n",
    "        yhat = model.predict(x_input, verbose = 0)\n",
    "        print(\"{} day output {}\".format(i, yhat))\n",
    "        temp_input.extend(yhat[0].tolist())\n",
    "        temp_input = temp_input[1:]\n",
    "        lst_output.extend(yhat.tolist())\n",
    "        i = i+1\n",
    "    else:\n",
    "        x_input = x_input.reshape((1, n_steps, 1))\n",
    "        yhat = model.predict(x_input, verbose=0)\n",
    "        print(yhat[0])\n",
    "        temp_input.extend(yhat[0].tolist())\n",
    "        print(len(temp_input))\n",
    "        lst_output.extend(yhat.tolist())\n",
    "        i = i+1\n",
    "        \n",
    "print(lst_output)"
   ]
  },
  {
   "cell_type": "code",
   "execution_count": 34,
   "id": "84efc5df",
   "metadata": {},
   "outputs": [],
   "source": [
    "day_new = np.arange(1, 101)\n",
    "day_pred = np.arange(101, 131)"
   ]
  },
  {
   "cell_type": "code",
   "execution_count": 35,
   "id": "76adccef",
   "metadata": {},
   "outputs": [
    {
     "data": {
      "text/plain": [
       "1259"
      ]
     },
     "execution_count": 35,
     "metadata": {},
     "output_type": "execute_result"
    }
   ],
   "source": [
    "len(df1)"
   ]
  },
  {
   "cell_type": "code",
   "execution_count": 36,
   "id": "c41f5c98",
   "metadata": {},
   "outputs": [],
   "source": [
    "df3 = df1.tolist()\n",
    "df3.extend(lst_output)"
   ]
  },
  {
   "cell_type": "code",
   "execution_count": 37,
   "id": "fc9b9752",
   "metadata": {},
   "outputs": [
    {
     "data": {
      "text/plain": [
       "((100,), (100, 1))"
      ]
     },
     "execution_count": 37,
     "metadata": {},
     "output_type": "execute_result"
    }
   ],
   "source": [
    "day_new.shape, df1[1159:].shape"
   ]
  },
  {
   "cell_type": "code",
   "execution_count": 38,
   "id": "743a0ae2",
   "metadata": {},
   "outputs": [
    {
     "data": {
      "text/plain": [
       "[<matplotlib.lines.Line2D at 0x1c49ce735b0>]"
      ]
     },
     "execution_count": 38,
     "metadata": {},
     "output_type": "execute_result"
    },
    {
     "data": {
      "image/png": "[encoded data removed]",
      "text/plain": [
       "<Figure size 432x288 with 1 Axes>"
      ]
     },
     "metadata": {
      "needs_background": "light"
     },
     "output_type": "display_data"
    }
   ],
   "source": [
    "plt.plot(day_new, scaler.inverse_transform(df1[1159:]))\n",
    "plt.plot(day_pred, scaler.inverse_transform(lst_output))"
   ]
  },
  {
   "cell_type": "code",
   "execution_count": 39,
   "id": "04107e58",
   "metadata": {},
   "outputs": [
    {
     "data": {
      "text/plain": [
       "[<matplotlib.lines.Line2D at 0x1c49ceb0490>]"
      ]
     },
     "execution_count": 39,
     "metadata": {},
     "output_type": "execute_result"
    },
    {
     "data": {
      "image/png": "[encoded data removed]",
      "text/plain": [
       "<Figure size 432x288 with 1 Axes>"
      ]
     },
     "metadata": {
      "needs_background": "light"
     },
     "output_type": "display_data"
    }
   ],
   "source": [
    "df3 = df1.tolist()\n",
    "df3.extend(lst_output)\n",
    "plt.plot(df3[1000:])"
   ]
  },
  {
   "cell_type": "code",
   "execution_count": 40,
   "id": "32160527",
   "metadata": {},
   "outputs": [
    {
     "data": {
      "text/plain": [
       "[<matplotlib.lines.Line2D at 0x1c49bbb54b0>]"
      ]
     },
     "execution_count": 40,
     "metadata": {},
     "output_type": "execute_result"
    },
    {
     "data": {
      "image/png": "[encoded data removed]",
      "text/plain": [
       "<Figure size 432x288 with 1 Axes>"
      ]
     },
     "metadata": {
      "needs_background": "light"
     },
     "output_type": "display_data"
    }
   ],
   "source": [
    "df3 = df1.tolist()\n",
    "df3.extend(lst_output)\n",
    "plt.plot(df3[1200:])"
   ]
  },
  {
   "cell_type": "code",
   "execution_count": null,
   "id": "b5d8c478",
   "metadata": {},
   "outputs": [],
   "source": []
  }
 ],
 "metadata": {
  "kernelspec": {
   "display_name": "Python 3 (ipykernel)",
   "language": "python",
   "name": "python3"
  },
  "language_info": {
   "codemirror_mode": {
    "name": "ipython",
    "version": 3
   },
   "file_extension": ".py",
   "mimetype": "text/x-python",
   "name": "python",
   "nbconvert_exporter": "python",
   "pygments_lexer": "ipython3",
   "version": "3.10.5"
  }
 },
 "nbformat": 4,
 "nbformat_minor": 5
}
